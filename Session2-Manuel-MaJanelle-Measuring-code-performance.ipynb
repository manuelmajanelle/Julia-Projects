{
 "cells": [
  {
   "cell_type": "markdown",
   "id": "43a6df3c",
   "metadata": {},
   "source": [
    "# OBJECTIVE: Submit a performance analysis of a self-implemented physics textbook function or constant using Julia benchmarking tools."
   ]
  },
  {
   "cell_type": "markdown",
   "id": "86238984",
   "metadata": {},
   "source": [
    "# KR1: Implemented (customized) at least one math/physics textbook function, or constant (prefer those that involve a sum or a loop) in Julia. Discuss its importance in Physics. See Resources in the webpage."
   ]
  },
  {
   "cell_type": "code",
   "execution_count": 1,
   "id": "295679d5",
   "metadata": {},
   "outputs": [
    {
     "name": "stderr",
     "output_type": "stream",
     "text": [
      "\u001b[32m\u001b[1m    Updating\u001b[22m\u001b[39m registry at `C:\\Users\\Janelle\\.julia\\registries\\General`\n",
      "\u001b[32m\u001b[1m    Updating\u001b[22m\u001b[39m git-repo `https://github.com/JuliaRegistries/General.git`\n",
      "\u001b[32m\u001b[1m   Resolving\u001b[22m\u001b[39m package versions...\n",
      "\u001b[32m\u001b[1m  No Changes\u001b[22m\u001b[39m to `C:\\Users\\Janelle\\Project.toml`\n",
      "\u001b[32m\u001b[1m  No Changes\u001b[22m\u001b[39m to `C:\\Users\\Janelle\\Manifest.toml`\n",
      "\u001b[32m\u001b[1mPrecompiling\u001b[22m\u001b[39m project...\n",
      "\u001b[32m  ✓ \u001b[39m\u001b[90mStrideArraysCore\u001b[39m\n",
      "\u001b[32m  ✓ \u001b[39m\u001b[90mForwardDiff\u001b[39m\n",
      "\u001b[32m  ✓ \u001b[39m\u001b[90mSciMLBase\u001b[39m\n",
      "\u001b[32m  ✓ \u001b[39m\u001b[90mGraphs\u001b[39m\n",
      "\u001b[32m  ✓ \u001b[39m\u001b[90mPolyester\u001b[39m\n",
      "\u001b[32m  ✓ \u001b[39m\u001b[90mPreallocationTools\u001b[39m\n",
      "\u001b[32m  ✓ \u001b[39m\u001b[90mNLSolversBase\u001b[39m\n",
      "\u001b[32m  ✓ \u001b[39m\u001b[90mVertexSafeGraphs\u001b[39m\n",
      "\u001b[32m  ✓ \u001b[39m\u001b[90mDistributions\u001b[39m\n",
      "\u001b[32m  ✓ \u001b[39m\u001b[90mFastBroadcast\u001b[39m\n",
      "\u001b[32m  ✓ \u001b[39m\u001b[90mSimpleNonlinearSolve\u001b[39m\n",
      "\u001b[32m  ✓ \u001b[39m\u001b[90mSparseDiffTools\u001b[39m\n",
      "\u001b[32m  ✓ \u001b[39m\u001b[90mLineSearches\u001b[39m\n",
      "\u001b[32m  ✓ \u001b[39m\u001b[90mVectorizationBase\u001b[39m\n",
      "\u001b[32m  ✓ \u001b[39m\u001b[90mNLsolve\u001b[39m\n",
      "\u001b[32m  ✓ \u001b[39m\u001b[90mSLEEFPirates\u001b[39m\n",
      "\u001b[32m  ✓ \u001b[39m\u001b[90mOptim\u001b[39m\n",
      "\u001b[32m  ✓ \u001b[39m\u001b[90mDiffEqBase\u001b[39m\n",
      "\u001b[32m  ✓ \u001b[39m\u001b[90mSciMLNLSolve\u001b[39m\n",
      "\u001b[32m  ✓ \u001b[39m\u001b[90mSIMDDualNumbers\u001b[39m\n",
      "\u001b[32m  ✓ \u001b[39m\u001b[90mJumpProcesses\u001b[39m\n",
      "\u001b[32m  ✓ \u001b[39m\u001b[90mDiffEqCallbacks\u001b[39m\n",
      "\u001b[32m  ✓ \u001b[39m\u001b[90mBoundaryValueDiffEq\u001b[39m\n",
      "\u001b[32m  ✓ \u001b[39m\u001b[90mDiffEqNoiseProcess\u001b[39m\n",
      "\u001b[32m  ✓ \u001b[39m\u001b[90mSteadyStateDiffEq\u001b[39m\n",
      "\u001b[32m  ✓ \u001b[39m\u001b[90mSundials\u001b[39m\n",
      "\u001b[32m  ✓ \u001b[39m\u001b[90mLoopVectorization\u001b[39m\n",
      "\u001b[32m  ✓ \u001b[39m\u001b[90mTriangularSolve\u001b[39m\n",
      "\u001b[32m  ✓ \u001b[39m\u001b[90mRecursiveFactorization\u001b[39m\n",
      "\u001b[32m  ✓ \u001b[39m\u001b[90mLinearSolve\u001b[39m\n",
      "\u001b[32m  ✓ \u001b[39m\u001b[90mNonlinearSolve\u001b[39m\n",
      "\u001b[32m  ✓ \u001b[39m\u001b[90mOrdinaryDiffEq\u001b[39m\n",
      "\u001b[32m  ✓ \u001b[39m\u001b[90mDelayDiffEq\u001b[39m\n",
      "\u001b[32m  ✓ \u001b[39m\u001b[90mStochasticDiffEq\u001b[39m\n",
      "\u001b[32m  ✓ \u001b[39mDifferentialEquations\n",
      "  35 dependencies successfully precompiled in 644 seconds. 245 already precompiled.\n",
      "\u001b[32m\u001b[1m   Resolving\u001b[22m\u001b[39m package versions...\n",
      "\u001b[32m\u001b[1m   Installed\u001b[22m\u001b[39m PyCall ─ v1.94.1\n",
      "\u001b[32m\u001b[1m   Installed\u001b[22m\u001b[39m PyPlot ─ v2.11.0\n",
      "\u001b[32m\u001b[1m    Updating\u001b[22m\u001b[39m `C:\\Users\\Janelle\\Project.toml`\n",
      " \u001b[90m [d330b81b] \u001b[39m\u001b[92m+ PyPlot v2.11.0\u001b[39m\n",
      "\u001b[32m\u001b[1m    Updating\u001b[22m\u001b[39m `C:\\Users\\Janelle\\Manifest.toml`\n",
      " \u001b[90m [8f4d0f93] \u001b[39m\u001b[92m+ Conda v1.7.0\u001b[39m\n",
      " \u001b[90m [438e738f] \u001b[39m\u001b[92m+ PyCall v1.94.1\u001b[39m\n",
      " \u001b[90m [d330b81b] \u001b[39m\u001b[92m+ PyPlot v2.11.0\u001b[39m\n",
      " \u001b[90m [81def892] \u001b[39m\u001b[92m+ VersionParsing v1.3.0\u001b[39m\n",
      "\u001b[32m\u001b[1m    Building\u001b[22m\u001b[39m PyCall → `C:\\Users\\Janelle\\.julia\\scratchspaces\\44cfe95a-1eb2-52ea-b672-e2afdf69b78f\\53b8b07b721b77144a0fbbbc2675222ebf40a02d\\build.log`\n",
      "\u001b[32m\u001b[1mPrecompiling\u001b[22m\u001b[39m project...\n",
      "\u001b[32m  ✓ \u001b[39m\u001b[90mPyCall\u001b[39m\n",
      "\u001b[32m  ✓ \u001b[39mPyPlot\n",
      "  2 dependencies successfully precompiled in 14 seconds. 282 already precompiled.\n",
      "\u001b[32m\u001b[1m   Resolving\u001b[22m\u001b[39m package versions...\n",
      "\u001b[32m\u001b[1m  No Changes\u001b[22m\u001b[39m to `C:\\Users\\Janelle\\Project.toml`\n",
      "\u001b[32m\u001b[1m  No Changes\u001b[22m\u001b[39m to `C:\\Users\\Janelle\\Manifest.toml`\n"
     ]
    },
    {
     "ename": "LoadError",
     "evalue": "syntax: use \"x^y\" instead of \"x**y\" for exponentiation, and \"x...\" instead of \"**x\" for splatting.",
     "output_type": "error",
     "traceback": [
      "syntax: use \"x^y\" instead of \"x**y\" for exponentiation, and \"x...\" instead of \"**x\" for splatting.",
      "",
      "Stacktrace:",
      " [1] top-level scope",
      "   @ In[1]:15",
      " [2] eval",
      "   @ .\\boot.jl:368 [inlined]",
      " [3] include_string(mapexpr::typeof(REPL.softscope), mod::Module, code::String, filename::String)",
      "   @ Base .\\loading.jl:1428"
     ]
    }
   ],
   "source": [
    "using Pkg\n",
    "Pkg.add(\"DifferentialEquations\")\n",
    "Pkg.add(\"PyPlot\")\n",
    "Pkg.add(\"Plots\")\n",
    "\n",
    "using Plots\n",
    "using DifferentialEquations\n"
   ]
  },
  {
   "cell_type": "code",
   "execution_count": 85,
   "id": "795d48b1",
   "metadata": {
    "scrolled": true
   },
   "outputs": [
    {
     "name": "stderr",
     "output_type": "stream",
     "text": [
      "\u001b[32m\u001b[1m   Resolving\u001b[22m\u001b[39m package versions...\n",
      "\u001b[32m\u001b[1m    Updating\u001b[22m\u001b[39m `C:\\Users\\Janelle\\Project.toml`\n",
      " \u001b[90m [276daf66] \u001b[39m\u001b[92m+ SpecialFunctions v2.1.7\u001b[39m\n",
      "\u001b[32m\u001b[1m  No Changes\u001b[22m\u001b[39m to `C:\\Users\\Janelle\\Manifest.toml`\n"
     ]
    }
   ],
   "source": [
    "Pkg.add(\"SpecialFunctions\")\n"
   ]
  },
  {
   "cell_type": "markdown",
   "id": "2362e2dd",
   "metadata": {},
   "source": [
    "The math/physics textbook function that I chose to implement is the error function. The error function, also known as erf, is a special function that is often used in probability, statistics, and partial differential equations. The error function is given by\n",
    "\n",
    "$erf(x) = \\frac{2}{sqrt{𝜋}} \\sum \\limits _{n=0} ^{\\infty}(−1)^{𝑛} \\frac{ 𝑥^{2𝑛+1}}{𝑛!(2𝑛 + 1)}$.\n",
    "\n",
    "The theory of the normal random variable and probability determination heavily relies on the error function. Results that hold with a high or low probability can be estimated using the error function and its approximations. Additionally, when boundary conditions are specified by the Heaviside step function, the error function also appears in solutions of the heat equation.\n",
    "\n"
   ]
  },
  {
   "cell_type": "code",
   "execution_count": 1,
   "id": "e2dcf80d",
   "metadata": {},
   "outputs": [
    {
     "name": "stdout",
     "output_type": "stream",
     "text": [
      "Given x=0.1\n",
      "    Using implemented error function:0.11246065924950271 \n",
      "    using existing special function:0.1124629160182849\n",
      "    Deviation:0.0020066781674200227 % "
     ]
    }
   ],
   "source": [
    "function erf1(x)\n",
    " K=2.0/sqrt(pi)\n",
    " start=0.0\n",
    " plusminus=1\n",
    " power=x\n",
    " factorial=1.0\n",
    "     for n=1:100\n",
    "         start=start+power*plusminus/(factorial*(2.0*(n-1)+1.0))\n",
    "         power=power*x*x\n",
    "         factorial=factorial*n\n",
    "         plusminus*=plusminus*(-1)\n",
    "     end\n",
    " return K*start\n",
    " end\n",
    "\n",
    "using SpecialFunctions\n",
    "x=0.1\n",
    "y1=erf1(x)\n",
    "y=erf(x)\n",
    "d= ((y-y1)/y)*100\n",
    "print(\"Given x=$x\n",
    "    Using implemented error function:$y1 \n",
    "    using existing special function:$y\n",
    "    Deviation:$d % \")"
   ]
  },
  {
   "cell_type": "markdown",
   "id": "4b7ed1e4",
   "metadata": {},
   "source": [
    "# KR2: Compare the performance (accuracy) of the implemented function in comparison with the existing special functions within Julia"
   ]
  },
  {
   "cell_type": "markdown",
   "id": "19cce286",
   "metadata": {},
   "source": [
    "The implemented error function gave accurate results with a percent deviation of 0.0020066781674200227 % in comparison with the existing error function within Julia. "
   ]
  },
  {
   "cell_type": "markdown",
   "id": "307059d8",
   "metadata": {},
   "source": [
    "# KR3: Successful loading of the BenchmarkTools module. May need to add it first via the Pkg or REPL package mode\n"
   ]
  },
  {
   "cell_type": "code",
   "execution_count": 2,
   "id": "f8af5d83",
   "metadata": {},
   "outputs": [],
   "source": [
    "using BenchmarkTools"
   ]
  },
  {
   "cell_type": "code",
   "execution_count": 5,
   "id": "9351a640",
   "metadata": {
    "scrolled": true
   },
   "outputs": [
    {
     "name": "stdout",
     "output_type": "stream",
     "text": [
      "  530.688 ns (1 allocation: 16 bytes)\n",
      "  40.369 ns (1 allocation: 16 bytes)\n"
     ]
    },
    {
     "data": {
      "text/plain": [
       "0.1124629160182849"
      ]
     },
     "execution_count": 5,
     "metadata": {},
     "output_type": "execute_result"
    }
   ],
   "source": [
    "function erf1(x)\n",
    " K=2.0/sqrt(pi)\n",
    " start=0.0\n",
    " plusminus=1\n",
    " power=x\n",
    " factorial=1.0\n",
    "     for n=1:100\n",
    "         start=start+power*plusminus/(factorial*(2.0*(n-1)+1.0))\n",
    "         power=power*x*x\n",
    "         factorial=factorial*n\n",
    "         plusminus*=plusminus*(-1)\n",
    "     end\n",
    " return K*start\n",
    " end\n",
    "\n",
    "using SpecialFunctions\n",
    "x=0.1\n",
    "@btime y1=erf1(x)\n",
    "@btime y=erf(x)"
   ]
  },
  {
   "cell_type": "code",
   "execution_count": 9,
   "id": "9df4c5a2",
   "metadata": {},
   "outputs": [
    {
     "data": {
      "text/plain": [
       "BenchmarkTools.Trial: 10000 samples with 287 evaluations.\n",
       " Range \u001b[90m(\u001b[39m\u001b[36m\u001b[1mmin\u001b[22m\u001b[39m … \u001b[35mmax\u001b[39m\u001b[90m):  \u001b[39m\u001b[36m\u001b[1m269.686 ns\u001b[22m\u001b[39m … \u001b[35m  5.623 μs\u001b[39m  \u001b[90m┊\u001b[39m GC \u001b[90m(\u001b[39mmin … max\u001b[90m): \u001b[39m0.00% … 93.60%\n",
       " Time  \u001b[90m(\u001b[39m\u001b[34m\u001b[1mmedian\u001b[22m\u001b[39m\u001b[90m):     \u001b[39m\u001b[34m\u001b[1m319.164 ns               \u001b[22m\u001b[39m\u001b[90m┊\u001b[39m GC \u001b[90m(\u001b[39mmedian\u001b[90m):    \u001b[39m0.00%\n",
       " Time  \u001b[90m(\u001b[39m\u001b[32m\u001b[1mmean\u001b[22m\u001b[39m ± \u001b[32mσ\u001b[39m\u001b[90m):   \u001b[39m\u001b[32m\u001b[1m419.320 ns\u001b[22m\u001b[39m ± \u001b[32m188.852 ns\u001b[39m  \u001b[90m┊\u001b[39m GC \u001b[90m(\u001b[39mmean ± σ\u001b[90m):  \u001b[39m0.13% ±  0.94%\n",
       "\n",
       "  \u001b[39m▁\u001b[39m█\u001b[39m▇\u001b[39m▅\u001b[39m▅\u001b[34m▄\u001b[39m\u001b[39m▂\u001b[39m▃\u001b[39m▃\u001b[39m▃\u001b[39m▄\u001b[39m▃\u001b[39m▂\u001b[39m \u001b[32m▁\u001b[39m\u001b[39m \u001b[39m▄\u001b[39m▃\u001b[39m▂\u001b[39m▁\u001b[39m \u001b[39m \u001b[39m \u001b[39m \u001b[39m \u001b[39m \u001b[39m▂\u001b[39m▁\u001b[39m▁\u001b[39m \u001b[39m \u001b[39m \u001b[39m \u001b[39m \u001b[39m \u001b[39m \u001b[39m \u001b[39m \u001b[39m \u001b[39m \u001b[39m▆\u001b[39m▅\u001b[39m▄\u001b[39m▃\u001b[39m▁\u001b[39m \u001b[39m \u001b[39m \u001b[39m \u001b[39m \u001b[39m \u001b[39m \u001b[39m \u001b[39m \u001b[39m \u001b[39m \u001b[39m \u001b[39m \u001b[39m \u001b[39m \u001b[39m \u001b[39m \u001b[39m▂\n",
       "  \u001b[39m█\u001b[39m█\u001b[39m█\u001b[39m█\u001b[39m█\u001b[34m█\u001b[39m\u001b[39m█\u001b[39m█\u001b[39m█\u001b[39m█\u001b[39m█\u001b[39m█\u001b[39m█\u001b[39m█\u001b[32m█\u001b[39m\u001b[39m█\u001b[39m█\u001b[39m█\u001b[39m█\u001b[39m█\u001b[39m█\u001b[39m█\u001b[39m█\u001b[39m█\u001b[39m▇\u001b[39m█\u001b[39m█\u001b[39m█\u001b[39m█\u001b[39m▇\u001b[39m▇\u001b[39m▇\u001b[39m▇\u001b[39m▇\u001b[39m▆\u001b[39m▇\u001b[39m█\u001b[39m▇\u001b[39m▇\u001b[39m▇\u001b[39m█\u001b[39m█\u001b[39m█\u001b[39m█\u001b[39m█\u001b[39m█\u001b[39m█\u001b[39m█\u001b[39m▇\u001b[39m▆\u001b[39m▆\u001b[39m▆\u001b[39m▄\u001b[39m▄\u001b[39m▆\u001b[39m▄\u001b[39m▅\u001b[39m▄\u001b[39m▄\u001b[39m▆\u001b[39m▄\u001b[39m \u001b[39m█\n",
       "  270 ns\u001b[90m        \u001b[39m\u001b[90mHistogram: \u001b[39m\u001b[90m\u001b[1mlog(\u001b[22m\u001b[39m\u001b[90mfrequency\u001b[39m\u001b[90m\u001b[1m)\u001b[22m\u001b[39m\u001b[90m by time\u001b[39m        902 ns \u001b[0m\u001b[1m<\u001b[22m\n",
       "\n",
       " Memory estimate\u001b[90m: \u001b[39m\u001b[33m16 bytes\u001b[39m, allocs estimate\u001b[90m: \u001b[39m\u001b[33m1\u001b[39m."
      ]
     },
     "execution_count": 9,
     "metadata": {},
     "output_type": "execute_result"
    }
   ],
   "source": [
    "x=0.2\n",
    "@benchmark y1=erf1(x)"
   ]
  },
  {
   "cell_type": "markdown",
   "id": "b4854f2b",
   "metadata": {},
   "source": [
    "# KR4: Itemized differences between @time, @btime, @benchmark and other @time-like macros. Nice if the situations when they are best applied are mentioned"
   ]
  },
  {
   "cell_type": "markdown",
   "id": "93bbc3d5",
   "metadata": {},
   "source": [
    "@time macro: <br>\n",
    "-wraps the provided expression to calculate <br>\n",
    "-prints the elapsed time while running the code <br>\n",
    "-measures and prints the amount of memory allocated while running the code <br>\n",
    "\n",
    "@btime macro: <br>\n",
    "-returns the value of the expression being evaluated <br>\n",
    "-executes the code multiple times and after that it chooses minimal time <br>\n",
    "-measures and prints the amount of memory allocated while running the code <br>\n",
    "\n",
    "@benchmark: <br>\n",
    "-can only be used in front of function calls, rather than any expression <br>\n",
    "-prints the mean time taken to run the code, but with statistically accurate upper and lower bounds <br>\n",
    "-evaluates the expression multiple times to improve accuracy of measurements <br>\n",
    "\n",
    "For quick sanity checks, @btime macro is usually used since it is essentially a convenient version of the @benchmark macro whose output is similar to Julia's built-in @time macro.\n"
   ]
  },
  {
   "cell_type": "markdown",
   "id": "a16d5de4",
   "metadata": {},
   "source": [
    "#  KR5-6: Identified demonstrated useful features within the Profiler module of Julia. Features must be explained why useful for your case. A discussion of the performance of the implemented function above.\n"
   ]
  },
  {
   "cell_type": "code",
   "execution_count": 10,
   "id": "cb856a8e",
   "metadata": {},
   "outputs": [
    {
     "data": {
      "text/plain": [
       "0.2226303675942337"
      ]
     },
     "execution_count": 10,
     "metadata": {},
     "output_type": "execute_result"
    }
   ],
   "source": [
    "using Profile\n",
    "\n",
    "x=0.2\n",
    "@profile y1=erf1(x)"
   ]
  },
  {
   "cell_type": "code",
   "execution_count": 11,
   "id": "8038ed11",
   "metadata": {},
   "outputs": [
    {
     "name": "stdout",
     "output_type": "stream",
     "text": [
      "Overhead ╎ [+additional indent] Count File:Line; Function\n",
      "=========================================================\n",
      " ╎7 @Base\\task.jl:484; (::IJulia.var\"#15#18\")()\n",
      " ╎ 7 @IJulia\\src\\eventloop.jl:8; eventloop(socket::ZMQ.Socket)\n",
      " ╎  7 @Base\\essentials.jl:726; invokelatest\n",
      " ╎   7 @Base\\essentials.jl:729; #invokelatest#2\n",
      " ╎    7 ...rc\\execute_request.jl:67; execute_request(socket::ZMQ.Socke...\n",
      " ╎     7 ...c\\SoftGlobalScope.jl:65; softscope_include_string(m::Modu...\n",
      " ╎    ╎ 7 @Base\\loading.jl:1428; include_string(mapexpr::typeof...\n",
      "6╎    ╎  7 @Base\\boot.jl:368; eval\n",
      " ╎    ╎   1 ...mpiler\\typeinfer.jl:996; typeinf_ext_toplevel(mi::Core....\n",
      " ╎    ╎    1 ...piler\\typeinfer.jl:1000; typeinf_ext_toplevel(interp:...\n",
      " ╎    ╎     1 ...piler\\typeinfer.jl:965; typeinf_ext(interp::Core.Com...\n",
      " ╎    ╎    ╎ 1 ...inferencestate.jl:284; Core.Compiler.InferenceState...\n",
      " ╎    ╎    ╎  1 ...iler\\utilities.jl:131; retrieve_code_info\n",
      "Total snapshots: 7. Utilization: 100% across all threads and tasks. Use the `groupby` kwarg to break down by thread and/or task\n"
     ]
    }
   ],
   "source": [
    "Profile.print()"
   ]
  },
  {
   "cell_type": "markdown",
   "id": "f924eff5",
   "metadata": {},
   "source": [
    "Each line of this display represents a particular spot (line number) in the code. Indentation is used to indicate the nested sequence of function calls, with more-indented lines being deeper in the sequence of calls. In each line, the first \"field\" is the number of backtraces (samples) taken at this line or in any functions executed by this line. The second field is the file name and line number and the third field is the function name."
   ]
  },
  {
   "cell_type": "code",
   "execution_count": 13,
   "id": "63658658",
   "metadata": {},
   "outputs": [
    {
     "data": {
      "text/plain": [
       "Gtk.GtkWindowLeaf(name=\"\", parent, width-request=-1, height-request=-1, visible=TRUE, sensitive=TRUE, app-paintable=FALSE, can-focus=FALSE, has-focus=FALSE, is-focus=FALSE, focus-on-click=TRUE, can-default=FALSE, has-default=FALSE, receives-default=FALSE, composite-child=FALSE, style, events=0, no-show-all=FALSE, has-tooltip=FALSE, tooltip-markup=NULL, tooltip-text=NULL, window, opacity=1.000000, double-buffered, halign=GTK_ALIGN_FILL, valign=GTK_ALIGN_FILL, margin-left, margin-right, margin-start=0, margin-end=0, margin-top=0, margin-bottom=0, margin=0, hexpand=FALSE, vexpand=FALSE, hexpand-set=FALSE, vexpand-set=FALSE, expand=FALSE, scale-factor=1, border-width=0, resize-mode, child, type=GTK_WINDOW_TOPLEVEL, title=\"Profile\", role=NULL, resizable=TRUE, modal=FALSE, window-position=GTK_WIN_POS_NONE, default-width=800, default-height=600, destroy-with-parent=FALSE, hide-titlebar-when-maximized=FALSE, icon, icon-name=NULL, screen, type-hint=GDK_WINDOW_TYPE_HINT_NORMAL, skip-taskbar-hint=FALSE, skip-pager-hint=FALSE, urgency-hint=FALSE, accept-focus=TRUE, focus-on-map=TRUE, decorated=TRUE, deletable=TRUE, gravity=GDK_GRAVITY_NORTH_WEST, transient-for, attached-to, has-resize-grip, resize-grip-visible, application, is-active=TRUE, has-toplevel-focus=TRUE, startup-id, mnemonics-visible=FALSE, focus-visible=FALSE, is-maximized=FALSE)"
      ]
     },
     "execution_count": 13,
     "metadata": {},
     "output_type": "execute_result"
    }
   ],
   "source": [
    "using ProfileView\n",
    "ProfileView.view()"
   ]
  },
  {
   "cell_type": "markdown",
   "id": "a02c7632",
   "metadata": {},
   "source": [
    "From the session slides: <br>\n",
    "The horizontal axis represents the amount of time (more precisely, the number of backtraces) spent at each line. The row at which the single long bar breaks up into multiple different-colored bars corresponds to the execution of different lines from profile_test. The fact that they are all positioned on top of the lower peach-colored bar means that all of these lines are called by the same \"parent\" function. Within a block of code, they are sorted in order of increasing line number, to make it easier for you to compare to the source code.\n",
    "\n",
    "It is also worth noting that red is (by default) a special color: it is reserved for function calls that have to be resolved at run-time. Because run-time dispatch (aka, dynamic dispatch, run-time method lookup, or a virtual call) often has a significant impact on performance, ProfileView highlights the problematic call in red. It's worth noting that some red is unavoidable; for example, the REPL can't predict in advance the return types from what users type at the prompt, and so the bottom eval call is red. Red bars are problematic only when they account for a sizable fraction of the top of a call stack, as only in such cases are they likely to be the source of a significant performance bottleneck."
   ]
  },
  {
   "cell_type": "code",
   "execution_count": null,
   "id": "755668d9",
   "metadata": {},
   "outputs": [],
   "source": []
  }
 ],
 "metadata": {
  "kernelspec": {
   "display_name": "Julia 1.8.0",
   "language": "julia",
   "name": "julia-1.8"
  },
  "language_info": {
   "file_extension": ".jl",
   "mimetype": "application/julia",
   "name": "julia",
   "version": "1.8.0"
  }
 },
 "nbformat": 4,
 "nbformat_minor": 5
}

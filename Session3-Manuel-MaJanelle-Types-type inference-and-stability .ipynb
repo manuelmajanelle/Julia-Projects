{
 "cells": [
  {
   "cell_type": "code",
   "execution_count": 1,
   "id": "29fa0ef5",
   "metadata": {},
   "outputs": [
    {
     "name": "stderr",
     "output_type": "stream",
     "text": [
      "\u001b[32m\u001b[1m  Activating\u001b[22m\u001b[39m project at `C:\\Users\\Janelle`\n",
      "┌ Warning: could not download https://pkg.julialang.org/registries\n",
      "│   exception = Downloads.RequestError(\"https://pkg.julialang.org/registries\", 6, \"Could not resolve host: in.pkg.julialang.org\", Downloads.Response(\"https\", \"https://in.pkg.julialang.org/registries\", 301, \"HTTP/1.1 301 AS -> IN internal redirect trigger\", [\"connection\" => \"close\", \"content-length\" => \"0\", \"server\" => \"Varnish\", \"retry-after\" => \"0\", \"location\" => \"https://in.pkg.julialang.org/registries\", \"x-geo-continent\" => \"AS\", \"x-geo-country\" => \"PH\", \"x-geo-region\" => \"00\", \"accept-ranges\" => \"bytes\", \"date\" => \"Sun, 08 Jan 2023 23:39:38 GMT\", \"via\" => \"1.1 varnish\", \"x-served-by\" => \"cache-mnl9720-MNL\", \"x-cache\" => \"HIT\", \"x-cache-hits\" => \"0\", \"x-timer\" => \"S1673221179.641936,VS0,VE0\"]))\n",
      "└ @ Pkg.Registry C:\\buildbot\\worker\\package_win64\\build\\usr\\share\\julia\\stdlib\\v1.8\\Pkg\\src\\Registry\\Registry.jl:68\n",
      "\u001b[32m\u001b[1m    Updating\u001b[22m\u001b[39m registry at `C:\\Users\\Janelle\\.julia\\registries\\General`\n",
      "\u001b[32m\u001b[1m    Updating\u001b[22m\u001b[39m git-repo `https://github.com/JuliaRegistries/General.git`\n",
      "\u001b[32m\u001b[1m   Resolving\u001b[22m\u001b[39m package versions...\n",
      "\u001b[32m\u001b[1m  No Changes\u001b[22m\u001b[39m to `C:\\Users\\Janelle\\Project.toml`\n",
      "\u001b[32m\u001b[1m  No Changes\u001b[22m\u001b[39m to `C:\\Users\\Janelle\\Manifest.toml`\n",
      "\u001b[32m\u001b[1m   Resolving\u001b[22m\u001b[39m package versions...\n",
      "\u001b[32m\u001b[1m  No Changes\u001b[22m\u001b[39m to `C:\\Users\\Janelle\\Project.toml`\n",
      "\u001b[32m\u001b[1m  No Changes\u001b[22m\u001b[39m to `C:\\Users\\Janelle\\Manifest.toml`\n",
      "┌ Warning: could not download https://pkg.julialang.org/registries\n",
      "│   exception = Downloads.RequestError(\"https://pkg.julialang.org/registries\", 6, \"Could not resolve host: in.pkg.julialang.org\", Downloads.Response(\"https\", \"https://in.pkg.julialang.org/registries\", 301, \"HTTP/1.1 301 AS -> IN internal redirect trigger\", [\"connection\" => \"close\", \"content-length\" => \"0\", \"server\" => \"Varnish\", \"retry-after\" => \"0\", \"location\" => \"https://in.pkg.julialang.org/registries\", \"x-geo-continent\" => \"AS\", \"x-geo-country\" => \"PH\", \"x-geo-region\" => \"00\", \"accept-ranges\" => \"bytes\", \"date\" => \"Sun, 08 Jan 2023 23:40:43 GMT\", \"via\" => \"1.1 varnish\", \"x-served-by\" => \"cache-mnl9726-MNL\", \"x-cache\" => \"HIT\", \"x-cache-hits\" => \"0\", \"x-timer\" => \"S1673221244.725875,VS0,VE0\"]))\n",
      "└ @ Pkg.Registry C:\\buildbot\\worker\\package_win64\\build\\usr\\share\\julia\\stdlib\\v1.8\\Pkg\\src\\Registry\\Registry.jl:68\n",
      "\u001b[32m\u001b[1m    Updating\u001b[22m\u001b[39m registry at `C:\\Users\\Janelle\\.julia\\registries\\General`\n",
      "\u001b[32m\u001b[1m    Updating\u001b[22m\u001b[39m git-repo `https://github.com/JuliaRegistries/General.git`\n",
      "\u001b[32m\u001b[1m   Installed\u001b[22m\u001b[39m GR_jll ───────────────── v0.71.3+0\n",
      "\u001b[32m\u001b[1m   Installed\u001b[22m\u001b[39m Missings ─────────────── v1.1.0\n",
      "\u001b[32m\u001b[1m   Installed\u001b[22m\u001b[39m TriangularSolve ──────── v0.1.17\n",
      "\u001b[32m\u001b[1m   Installed\u001b[22m\u001b[39m HTTP ─────────────────── v1.6.3\n",
      "\u001b[32m\u001b[1m   Installed\u001b[22m\u001b[39m DiffEqNoiseProcess ───── v5.15.1\n",
      "\u001b[32m\u001b[1m   Installed\u001b[22m\u001b[39m JumpProcesses ────────── v9.3.1\n",
      "\u001b[32m\u001b[1m   Installed\u001b[22m\u001b[39m Parsers ──────────────── v2.5.2\n",
      "\u001b[32m\u001b[1m   Installed\u001b[22m\u001b[39m PyCall ───────────────── v1.95.0\n",
      "\u001b[32m\u001b[1m   Installed\u001b[22m\u001b[39m Colors ───────────────── v0.12.10\n",
      "\u001b[32m\u001b[1m   Installed\u001b[22m\u001b[39m Gtk ──────────────────── v1.3.0\n",
      "\u001b[32m\u001b[1m   Installed\u001b[22m\u001b[39m ColorVectorSpace ─────── v0.9.10\n",
      "\u001b[32m\u001b[1m   Installed\u001b[22m\u001b[39m Plots ────────────────── v1.38.1\n",
      "\u001b[32m\u001b[1m   Installed\u001b[22m\u001b[39m XML2_jll ─────────────── v2.10.3+0\n",
      "\u001b[32m\u001b[1m   Installed\u001b[22m\u001b[39m LoopVectorization ────── v0.12.146\n",
      "\u001b[32m\u001b[1m   Installed\u001b[22m\u001b[39m GtkObservables ───────── v1.2.6\n",
      "\u001b[32m\u001b[1m   Installed\u001b[22m\u001b[39m VectorizationBase ────── v0.21.57\n",
      "\u001b[32m\u001b[1m   Installed\u001b[22m\u001b[39m StrideArraysCore ─────── v0.4.5\n",
      "\u001b[32m\u001b[1m   Installed\u001b[22m\u001b[39m Wayland_jll ──────────── v1.21.0+0\n",
      "\u001b[32m\u001b[1m   Installed\u001b[22m\u001b[39m DataAPI ──────────────── v1.14.0\n",
      "\u001b[32m\u001b[1m   Installed\u001b[22m\u001b[39m RecipesBase ──────────── v1.3.3\n",
      "\u001b[32m\u001b[1m   Installed\u001b[22m\u001b[39m RecursiveFactorization ─ v0.2.14\n",
      "\u001b[32m\u001b[1m   Installed\u001b[22m\u001b[39m Sparspak ─────────────── v0.3.3\n",
      "\u001b[32m\u001b[1m   Installed\u001b[22m\u001b[39m GR ───────────────────── v0.71.3\n",
      "\u001b[32m\u001b[1m    Updating\u001b[22m\u001b[39m `C:\\Users\\Janelle\\Project.toml`\n",
      " \u001b[90m [91a5bcdd] \u001b[39m\u001b[93m↑ Plots v1.37.2 ⇒ v1.38.1\u001b[39m\n",
      "\u001b[32m\u001b[1m    Updating\u001b[22m\u001b[39m `C:\\Users\\Janelle\\Manifest.toml`\n",
      " \u001b[90m [c3611d14] \u001b[39m\u001b[93m↑ ColorVectorSpace v0.9.9 ⇒ v0.9.10\u001b[39m\n",
      " \u001b[90m [5ae59095] \u001b[39m\u001b[93m↑ Colors v0.12.9 ⇒ v0.12.10\u001b[39m\n",
      " \u001b[90m [9a962f9c] \u001b[39m\u001b[93m↑ DataAPI v1.13.0 ⇒ v1.14.0\u001b[39m\n",
      " \u001b[90m [77a26b50] \u001b[39m\u001b[93m↑ DiffEqNoiseProcess v5.15.0 ⇒ v5.15.1\u001b[39m\n",
      " \u001b[90m [28b8d3ca] \u001b[39m\u001b[93m↑ GR v0.71.1 ⇒ v0.71.3\u001b[39m\n",
      " \u001b[90m [4c0ca9eb] \u001b[39m\u001b[93m↑ Gtk v1.2.2 ⇒ v1.3.0\u001b[39m\n",
      " \u001b[90m [8710efd8] \u001b[39m\u001b[93m↑ GtkObservables v1.2.5 ⇒ v1.2.6\u001b[39m\n",
      " \u001b[90m [cd3eb016] \u001b[39m\u001b[93m↑ HTTP v1.6.0 ⇒ v1.6.3\u001b[39m\n",
      " \u001b[90m [ccbc3e58] \u001b[39m\u001b[93m↑ JumpProcesses v9.3.0 ⇒ v9.3.1\u001b[39m\n",
      " \u001b[90m [bdcacae8] \u001b[39m\u001b[93m↑ LoopVectorization v0.12.143 ⇒ v0.12.146\u001b[39m\n",
      " \u001b[90m [e1d29d7a] \u001b[39m\u001b[93m↑ Missings v1.0.2 ⇒ v1.1.0\u001b[39m\n",
      " \u001b[90m [69de0a69] \u001b[39m\u001b[93m↑ Parsers v2.5.1 ⇒ v2.5.2\u001b[39m\n",
      " \u001b[90m [91a5bcdd] \u001b[39m\u001b[93m↑ Plots v1.37.2 ⇒ v1.38.1\u001b[39m\n",
      " \u001b[90m [438e738f] \u001b[39m\u001b[93m↑ PyCall v1.94.1 ⇒ v1.95.0\u001b[39m\n",
      " \u001b[90m [3cdcf5f2] \u001b[39m\u001b[93m↑ RecipesBase v1.3.2 ⇒ v1.3.3\u001b[39m\n",
      " \u001b[90m [f2c3362d] \u001b[39m\u001b[93m↑ RecursiveFactorization v0.2.13 ⇒ v0.2.14\u001b[39m\n",
      " \u001b[90m [e56a9233] \u001b[39m\u001b[93m↑ Sparspak v0.3.2 ⇒ v0.3.3\u001b[39m\n",
      " \u001b[90m [7792a7ef] \u001b[39m\u001b[93m↑ StrideArraysCore v0.4.4 ⇒ v0.4.5\u001b[39m\n",
      " \u001b[90m [d5829a12] \u001b[39m\u001b[93m↑ TriangularSolve v0.1.16 ⇒ v0.1.17\u001b[39m\n",
      " \u001b[90m [3d5dd08c] \u001b[39m\u001b[93m↑ VectorizationBase v0.21.56 ⇒ v0.21.57\u001b[39m\n",
      " \u001b[90m [d2c73de3] \u001b[39m\u001b[93m↑ GR_jll v0.71.1+0 ⇒ v0.71.3+0\u001b[39m\n",
      " \u001b[90m [a2964d1f] \u001b[39m\u001b[93m↑ Wayland_jll v1.19.0+0 ⇒ v1.21.0+0\u001b[39m\n",
      " \u001b[90m [02c8fc9c] \u001b[39m\u001b[93m↑ XML2_jll v2.9.14+0 ⇒ v2.10.3+0\u001b[39m\n",
      "\u001b[32m\u001b[1m    Building\u001b[22m\u001b[39m PyCall → `C:\\Users\\Janelle\\.julia\\scratchspaces\\44cfe95a-1eb2-52ea-b672-e2afdf69b78f\\b32c4b415f41f10c671cba02ae3275027dea8892\\build.log`\n",
      "\u001b[32m\u001b[1mPrecompiling\u001b[22m\u001b[39m project...\n",
      "\u001b[32m  ✓ \u001b[39m\u001b[90mDataAPI\u001b[39m\n",
      "\u001b[32m  ✓ \u001b[39m\u001b[90mXML2_jll\u001b[39m\n",
      "\u001b[32m  ✓ \u001b[39m\u001b[90mSparspak\u001b[39m\n",
      "\u001b[32m  ✓ \u001b[39m\u001b[90mRecipesBase\u001b[39m\n",
      "\u001b[32m  ✓ \u001b[39m\u001b[90mStrideArraysCore\u001b[39m\n",
      "\u001b[32m  ✓ \u001b[39m\u001b[90mColors\u001b[39m\n",
      "\u001b[32m  ✓ \u001b[39m\u001b[90mHTTP\u001b[39m\n",
      "\u001b[32m  ✓ \u001b[39m\u001b[90mColorVectorSpace\u001b[39m\n",
      "\u001b[32m  ✓ \u001b[39m\u001b[90mMissings\u001b[39m\n",
      "\u001b[32m  ✓ \u001b[39m\u001b[90mTables\u001b[39m\n",
      "\u001b[32m  ✓ \u001b[39m\u001b[90mXSLT_jll\u001b[39m\n",
      "\u001b[32m  ✓ \u001b[39m\u001b[90mGettext_jll\u001b[39m\n",
      "\u001b[32m  ✓ \u001b[39m\u001b[90mWayland_jll\u001b[39m\n",
      "\u001b[32m  ✓ \u001b[39m\u001b[90mGraphics\u001b[39m\n",
      "\u001b[32m  ✓ \u001b[39m\u001b[90mIterativeSolvers\u001b[39m\n",
      "\u001b[32m  ✓ \u001b[39m\u001b[90mPolyester\u001b[39m\n",
      "\u001b[32m  ✓ \u001b[39m\u001b[90mPyCall\u001b[39m\n",
      "\u001b[32m  ✓ \u001b[39m\u001b[90mFlameGraphs\u001b[39m\n",
      "\u001b[32m  ✓ \u001b[39m\u001b[90mStatsBase\u001b[39m\n",
      "\u001b[32m  ✓ \u001b[39m\u001b[90mXorg_libxcb_jll\u001b[39m\n",
      "\u001b[32m  ✓ \u001b[39m\u001b[90mGlib_jll\u001b[39m\n",
      "\u001b[32m  ✓ \u001b[39m\u001b[90mRecursiveArrayTools\u001b[39m\n",
      "\u001b[32m  ✓ \u001b[39m\u001b[90mColorSchemes\u001b[39m\n",
      "\u001b[32m  ✓ \u001b[39m\u001b[90mFastBroadcast\u001b[39m\n",
      "\u001b[32m  ✓ \u001b[39m\u001b[90mXorg_xcb_util_jll\u001b[39m\n",
      "\u001b[32m  ✓ \u001b[39m\u001b[90mXorg_libX11_jll\u001b[39m\n",
      "\u001b[32m  ✓ \u001b[39mPyPlot\n",
      "\u001b[32m  ✓ \u001b[39m\u001b[90mATK_jll\u001b[39m\n",
      "\u001b[32m  ✓ \u001b[39m\u001b[90mVectorizationBase\u001b[39m\n",
      "\u001b[32m  ✓ \u001b[39m\u001b[90mOptim\u001b[39m\n",
      "\u001b[32m  ✓ \u001b[39m\u001b[90mXorg_xcb_util_image_jll\u001b[39m\n",
      "\u001b[32m  ✓ \u001b[39m\u001b[90mDistributions\u001b[39m\n",
      "\u001b[32m  ✓ \u001b[39m\u001b[90mXorg_xcb_util_keysyms_jll\u001b[39m\n",
      "\u001b[32m  ✓ \u001b[39m\u001b[90mXorg_xcb_util_renderutil_jll\u001b[39m\n",
      "\u001b[32m  ✓ \u001b[39m\u001b[90mXorg_xcb_util_wm_jll\u001b[39m\n",
      "\u001b[32m  ✓ \u001b[39m\u001b[90mXorg_libXrender_jll\u001b[39m\n",
      "\u001b[32m  ✓ \u001b[39m\u001b[90mXorg_libXext_jll\u001b[39m\n",
      "\u001b[32m  ✓ \u001b[39m\u001b[90mSciMLBase\u001b[39m\n",
      "\u001b[32m  ✓ \u001b[39m\u001b[90mXorg_libXfixes_jll\u001b[39m\n",
      "\u001b[32m  ✓ \u001b[39m\u001b[90mgdk_pixbuf_jll\u001b[39m\n",
      "\u001b[32m  ✓ \u001b[39m\u001b[90mXorg_libxkbfile_jll\u001b[39m\n",
      "\u001b[32m  ✓ \u001b[39m\u001b[90mLibglvnd_jll\u001b[39m\n",
      "\u001b[32m  ✓ \u001b[39m\u001b[90mXorg_libXinerama_jll\u001b[39m\n",
      "\u001b[32m  ✓ \u001b[39m\u001b[90mXorg_libXrandr_jll\u001b[39m\n",
      "\u001b[32m  ✓ \u001b[39m\u001b[90mCairo_jll\u001b[39m\n",
      "\u001b[32m  ✓ \u001b[39m\u001b[90mXorg_libXcomposite_jll\u001b[39m\n",
      "\u001b[32m  ✓ \u001b[39m\u001b[90mXorg_libXdamage_jll\u001b[39m\n",
      "\u001b[32m  ✓ \u001b[39m\u001b[90mSLEEFPirates\u001b[39m\n",
      "\u001b[32m  ✓ \u001b[39m\u001b[90mXorg_libXcursor_jll\u001b[39m\n",
      "\u001b[32m  ✓ \u001b[39m\u001b[90mPlotUtils\u001b[39m\n",
      "\u001b[32m  ✓ \u001b[39m\u001b[90mXorg_libXi_jll\u001b[39m\n",
      "\u001b[32m  ✓ \u001b[39m\u001b[90mXorg_xkbcomp_jll\u001b[39m\n",
      "\u001b[32m  ✓ \u001b[39m\u001b[90mLibepoxy_jll\u001b[39m\n",
      "\u001b[32m  ✓ \u001b[39m\u001b[90mHarfBuzz_jll\u001b[39m\n",
      "\u001b[32m  ✓ \u001b[39m\u001b[90mSciMLNLSolve\u001b[39m\n",
      "\u001b[32m  ✓ \u001b[39m\u001b[90mSimpleNonlinearSolve\u001b[39m\n",
      "\u001b[32m  ✓ \u001b[39m\u001b[90mXorg_libXtst_jll\u001b[39m\n",
      "\u001b[32m  ✓ \u001b[39m\u001b[90mGLFW_jll\u001b[39m\n",
      "\u001b[32m  ✓ \u001b[39m\u001b[90mXorg_xkeyboard_config_jll\u001b[39m\n"
     ]
    },
    {
     "name": "stderr",
     "output_type": "stream",
     "text": [
      "\u001b[32m  ✓ \u001b[39m\u001b[90mlibass_jll\u001b[39m\n",
      "\u001b[32m  ✓ \u001b[39m\u001b[90mPango_jll\u001b[39m\n",
      "\u001b[32m  ✓ \u001b[39m\u001b[90mat_spi2_core_jll\u001b[39m\n",
      "\u001b[32m  ✓ \u001b[39m\u001b[90mSIMDDualNumbers\u001b[39m\n",
      "\u001b[32m  ✓ \u001b[39m\u001b[90mxkbcommon_jll\u001b[39m\n",
      "\u001b[32m  ✓ \u001b[39m\u001b[90mFFMPEG_jll\u001b[39m\n",
      "\u001b[32m  ✓ \u001b[39m\u001b[90mLibrsvg_jll\u001b[39m\n",
      "\u001b[32m  ✓ \u001b[39m\u001b[90mPlotThemes\u001b[39m\n",
      "\u001b[32m  ✓ \u001b[39m\u001b[90mRecipesPipeline\u001b[39m\n",
      "\u001b[32m  ✓ \u001b[39m\u001b[90mat_spi2_atk_jll\u001b[39m\n",
      "\u001b[32m  ✓ \u001b[39m\u001b[90mCairo\u001b[39m\n",
      "\u001b[32m  ✓ \u001b[39m\u001b[90mQt5Base_jll\u001b[39m\n",
      "\u001b[32m  ✓ \u001b[39m\u001b[90mFFMPEG\u001b[39m\n",
      "\u001b[32m  ✓ \u001b[39m\u001b[90mGTK3_jll\u001b[39m\n",
      "\u001b[32m  ✓ \u001b[39m\u001b[90mGR_jll\u001b[39m\n",
      "\u001b[32m  ✓ \u001b[39m\u001b[90mGR\u001b[39m\n",
      "\u001b[32m  ✓ \u001b[39m\u001b[90mDiffEqBase\u001b[39m\n",
      "\u001b[32m  ✓ \u001b[39m\u001b[90mGtk\u001b[39m\n",
      "\u001b[32m  ✓ \u001b[39m\u001b[90mDiffEqCallbacks\u001b[39m\n",
      "\u001b[32m  ✓ \u001b[39m\u001b[90mJumpProcesses\u001b[39m\n",
      "\u001b[32m  ✓ \u001b[39m\u001b[90mLoopVectorization\u001b[39m\n",
      "\u001b[32m  ✓ \u001b[39m\u001b[90mBoundaryValueDiffEq\u001b[39m\n",
      "\u001b[32m  ✓ \u001b[39m\u001b[90mSundials\u001b[39m\n",
      "\u001b[32m  ✓ \u001b[39m\u001b[90mDiffEqNoiseProcess\u001b[39m\n",
      "\u001b[32m  ✓ \u001b[39m\u001b[90mSteadyStateDiffEq\u001b[39m\n",
      "\u001b[32m  ✓ \u001b[39m\u001b[90mGtkObservables\u001b[39m\n",
      "\u001b[32m  ✓ \u001b[39mProfileView\n",
      "\u001b[32m  ✓ \u001b[39m\u001b[90mTriangularSolve\u001b[39m\n",
      "\u001b[32m  ✓ \u001b[39mPlots\n",
      "\u001b[32m  ✓ \u001b[39m\u001b[90mRecursiveFactorization\u001b[39m\n",
      "\u001b[32m  ✓ \u001b[39m\u001b[90mLinearSolve\u001b[39m\n",
      "\u001b[32m  ✓ \u001b[39m\u001b[90mNonlinearSolve\u001b[39m\n",
      "\u001b[32m  ✓ \u001b[39m\u001b[90mOrdinaryDiffEq\u001b[39m\n",
      "\u001b[32m  ✓ \u001b[39m\u001b[90mDelayDiffEq\u001b[39m\n",
      "\u001b[32m  ✓ \u001b[39m\u001b[90mStochasticDiffEq\u001b[39m\n",
      "\u001b[32m  ✓ \u001b[39mDifferentialEquations\n",
      "  95 dependencies successfully precompiled in 320 seconds. 189 already precompiled.\n",
      "┌ Info: We haven't cleaned this depot up for a bit, running Pkg.gc()...\n",
      "└ @ Pkg C:\\buildbot\\worker\\package_win64\\build\\usr\\share\\julia\\stdlib\\v1.8\\Pkg\\src\\Pkg.jl:719\n",
      "\u001b[32m\u001b[1m      Active\u001b[22m\u001b[39m manifest files: 2 found\n",
      "\u001b[32m\u001b[1m      Active\u001b[22m\u001b[39m artifact files: 97 found\n",
      "\u001b[32m\u001b[1m      Active\u001b[22m\u001b[39m scratchspaces: 6 found\n",
      "\u001b[32m\u001b[1m     Deleted\u001b[22m\u001b[39m no artifacts, repos, packages or scratchspaces\n"
     ]
    },
    {
     "name": "stdout",
     "output_type": "stream",
     "text": [
      "\u001b[32m\u001b[1mStatus\u001b[22m\u001b[39m `C:\\Users\\Janelle\\Project.toml`\n",
      " \u001b[90m [6e4b80f9] \u001b[39mBenchmarkTools v1.3.2\n",
      " \u001b[90m [0c46a032] \u001b[39mDifferentialEquations v7.6.0\n",
      " \u001b[90m [91a5bcdd] \u001b[39mPlots v1.38.1\n",
      " \u001b[90m [c46f51b8] \u001b[39mProfileView v1.5.2\n",
      " \u001b[90m [d330b81b] \u001b[39mPyPlot v2.11.0\n",
      " \u001b[90m [276daf66] \u001b[39mSpecialFunctions v2.1.7\n",
      " \u001b[90m [9abbd945] \u001b[39mProfile\n"
     ]
    }
   ],
   "source": [
    "using Pkg;\n",
    "Pkg.activate(\".\");\n",
    "Pkg.add(\"Plots\");\n",
    "Pkg.add(\"BenchmarkTools\");\n",
    "Pkg.update()\n",
    "Pkg.status()"
   ]
  },
  {
   "cell_type": "markdown",
   "id": "1531bebf",
   "metadata": {},
   "source": [
    "# KR1: Shown or demonstrated the hierarchy of Julia's type hierarchy using the command subtypes(). Start from Number and use subtypes() to explore from abstract types down to specific types. Use supertype() to determine the parent abstract type."
   ]
  },
  {
   "cell_type": "code",
   "execution_count": 2,
   "id": "9de706a0",
   "metadata": {},
   "outputs": [
    {
     "name": "stdout",
     "output_type": "stream",
     "text": [
      "There are 594 types in Julia!\n"
     ]
    }
   ],
   "source": [
    "alltypes = subtypes(Any);\n",
    "println(\"There are $(length(alltypes)) types in Julia!\")"
   ]
  },
  {
   "cell_type": "code",
   "execution_count": 3,
   "id": "4a78db70",
   "metadata": {},
   "outputs": [
    {
     "data": {
      "text/plain": [
       "594-element Vector{Any}:\n",
       " AbstractArray\n",
       " AbstractChannel\n",
       " AbstractChar\n",
       " AbstractDict\n",
       " AbstractDisplay\n",
       " AbstractMatch\n",
       " AbstractPattern\n",
       " AbstractSet\n",
       " AbstractString\n",
       " Any\n",
       " Base.AbstractBroadcasted\n",
       " Base.AbstractCartesianIndex\n",
       " Base.AbstractCmd\n",
       " ⋮\n",
       " Timer\n",
       " Tuple\n",
       " Type\n",
       " TypeVar\n",
       " UndefInitializer\n",
       " Val\n",
       " VecElement\n",
       " VersionNumber\n",
       " WeakRef\n",
       " ZMQ.Context\n",
       " ZMQ.Socket\n",
       " ZMQ._Message"
      ]
     },
     "execution_count": 3,
     "metadata": {},
     "output_type": "execute_result"
    }
   ],
   "source": [
    "alltypes"
   ]
  },
  {
   "cell_type": "code",
   "execution_count": 5,
   "id": "bfa32fad",
   "metadata": {},
   "outputs": [
    {
     "data": {
      "text/plain": [
       "2-element Vector{Any}:\n",
       " Complex\n",
       " Real"
      ]
     },
     "execution_count": 5,
     "metadata": {},
     "output_type": "execute_result"
    }
   ],
   "source": [
    "subtypes(Number)"
   ]
  },
  {
   "cell_type": "code",
   "execution_count": 6,
   "id": "251696b3",
   "metadata": {},
   "outputs": [
    {
     "data": {
      "text/plain": [
       "4-element Vector{Any}:\n",
       " AbstractFloat\n",
       " AbstractIrrational\n",
       " Integer\n",
       " Rational"
      ]
     },
     "execution_count": 6,
     "metadata": {},
     "output_type": "execute_result"
    }
   ],
   "source": [
    "subtypes(Real)"
   ]
  },
  {
   "cell_type": "code",
   "execution_count": 7,
   "id": "5e8152de",
   "metadata": {},
   "outputs": [
    {
     "data": {
      "text/plain": [
       "1-element Vector{Any}:\n",
       " Irrational"
      ]
     },
     "execution_count": 7,
     "metadata": {},
     "output_type": "execute_result"
    }
   ],
   "source": [
    "subtypes(AbstractIrrational)"
   ]
  },
  {
   "cell_type": "code",
   "execution_count": 8,
   "id": "c2d28c03",
   "metadata": {},
   "outputs": [
    {
     "data": {
      "text/plain": [
       "4-element Vector{Any}:\n",
       " BigFloat\n",
       " Float16\n",
       " Float32\n",
       " Float64"
      ]
     },
     "execution_count": 8,
     "metadata": {},
     "output_type": "execute_result"
    }
   ],
   "source": [
    "subtypes(AbstractFloat)"
   ]
  },
  {
   "cell_type": "code",
   "execution_count": 9,
   "id": "e3b4c727",
   "metadata": {},
   "outputs": [
    {
     "data": {
      "text/plain": [
       "3-element Vector{Any}:\n",
       " Bool\n",
       " Signed\n",
       " Unsigned"
      ]
     },
     "execution_count": 9,
     "metadata": {},
     "output_type": "execute_result"
    }
   ],
   "source": [
    "subtypes(Integer)"
   ]
  },
  {
   "cell_type": "code",
   "execution_count": 12,
   "id": "eb56234d",
   "metadata": {},
   "outputs": [
    {
     "data": {
      "text/plain": [
       "6-element Vector{Any}:\n",
       " BigInt\n",
       " Int128\n",
       " Int16\n",
       " Int32\n",
       " Int64\n",
       " Int8"
      ]
     },
     "execution_count": 12,
     "metadata": {},
     "output_type": "execute_result"
    }
   ],
   "source": [
    "subtypes(Signed)"
   ]
  },
  {
   "cell_type": "code",
   "execution_count": 13,
   "id": "e8115f1c",
   "metadata": {},
   "outputs": [
    {
     "data": {
      "text/plain": [
       "5-element Vector{Any}:\n",
       " UInt128\n",
       " UInt16\n",
       " UInt32\n",
       " UInt64\n",
       " UInt8"
      ]
     },
     "execution_count": 13,
     "metadata": {},
     "output_type": "execute_result"
    }
   ],
   "source": [
    "subtypes(Unsigned)"
   ]
  },
  {
   "cell_type": "code",
   "execution_count": 18,
   "id": "ef5b47dd",
   "metadata": {},
   "outputs": [
    {
     "data": {
      "text/plain": [
       "Any"
      ]
     },
     "execution_count": 18,
     "metadata": {},
     "output_type": "execute_result"
    }
   ],
   "source": [
    "supertype(Number)"
   ]
  },
  {
   "cell_type": "code",
   "execution_count": 19,
   "id": "7464a584",
   "metadata": {},
   "outputs": [
    {
     "data": {
      "text/plain": [
       "AbstractFloat"
      ]
     },
     "execution_count": 19,
     "metadata": {},
     "output_type": "execute_result"
    }
   ],
   "source": [
    "supertype(Float64)"
   ]
  },
  {
   "cell_type": "code",
   "execution_count": 20,
   "id": "cec83315",
   "metadata": {},
   "outputs": [
    {
     "data": {
      "text/plain": [
       "Any"
      ]
     },
     "execution_count": 20,
     "metadata": {},
     "output_type": "execute_result"
    }
   ],
   "source": [
    "supertype(AbstractString)"
   ]
  },
  {
   "cell_type": "code",
   "execution_count": 21,
   "id": "40d4a441",
   "metadata": {},
   "outputs": [
    {
     "data": {
      "text/plain": [
       "Any"
      ]
     },
     "execution_count": 21,
     "metadata": {},
     "output_type": "execute_result"
    }
   ],
   "source": [
    "supertype(Any)"
   ]
  },
  {
   "cell_type": "markdown",
   "id": "bb34a872",
   "metadata": {},
   "source": [
    "# KR2: Implemented and used at least one own composite type via struct. Generate two more versions that are mutable type and type-parametrized of the custom-built type."
   ]
  },
  {
   "cell_type": "code",
   "execution_count": 22,
   "id": "0c78af9d",
   "metadata": {},
   "outputs": [],
   "source": [
    "struct Pixel\n",
    " x::Int64\n",
    " y::Int64\n",
    " color::Int64\n",
    "end"
   ]
  },
  {
   "cell_type": "code",
   "execution_count": 23,
   "id": "0f80ab6a",
   "metadata": {},
   "outputs": [
    {
     "data": {
      "text/plain": [
       "Pixel(5, 5, 100)"
      ]
     },
     "execution_count": 23,
     "metadata": {},
     "output_type": "execute_result"
    }
   ],
   "source": [
    "p = Pixel(5,5, 100)"
   ]
  },
  {
   "cell_type": "code",
   "execution_count": 24,
   "id": "8c26af24",
   "metadata": {},
   "outputs": [
    {
     "ename": "LoadError",
     "evalue": "setfield!: immutable struct of type Pixel cannot be changed",
     "output_type": "error",
     "traceback": [
      "setfield!: immutable struct of type Pixel cannot be changed",
      "",
      "Stacktrace:",
      " [1] setproperty!(x::Pixel, f::Symbol, v::Int64)",
      "   @ Base .\\Base.jl:39",
      " [2] top-level scope",
      "   @ In[24]:1",
      " [3] eval",
      "   @ .\\boot.jl:368 [inlined]",
      " [4] include_string(mapexpr::typeof(REPL.softscope), mod::Module, code::String, filename::String)",
      "   @ Base .\\loading.jl:1428"
     ]
    }
   ],
   "source": [
    " p.x = 10"
   ]
  },
  {
   "cell_type": "code",
   "execution_count": 26,
   "id": "9856bc6c",
   "metadata": {},
   "outputs": [
    {
     "data": {
      "text/plain": [
       "5"
      ]
     },
     "execution_count": 26,
     "metadata": {},
     "output_type": "execute_result"
    }
   ],
   "source": [
    " p.x "
   ]
  },
  {
   "cell_type": "code",
   "execution_count": 27,
   "id": "da2fdbce",
   "metadata": {},
   "outputs": [
    {
     "data": {
      "text/plain": [
       "5"
      ]
     },
     "execution_count": 27,
     "metadata": {},
     "output_type": "execute_result"
    }
   ],
   "source": [
    "p.y"
   ]
  },
  {
   "cell_type": "code",
   "execution_count": 29,
   "id": "16795188",
   "metadata": {},
   "outputs": [],
   "source": [
    "mutable struct MPixel\n",
    " x::Int64\n",
    " y::Int64\n",
    " color::Int64\n",
    "end"
   ]
  },
  {
   "cell_type": "code",
   "execution_count": 30,
   "id": "8ab5b1b4",
   "metadata": {},
   "outputs": [
    {
     "data": {
      "text/plain": [
       "MPixel(5, 5, 100)"
      ]
     },
     "execution_count": 30,
     "metadata": {},
     "output_type": "execute_result"
    }
   ],
   "source": [
    " p = MPixel(5,5, 100)"
   ]
  },
  {
   "cell_type": "code",
   "execution_count": 31,
   "id": "0f0c61d1",
   "metadata": {},
   "outputs": [
    {
     "data": {
      "text/plain": [
       "10"
      ]
     },
     "execution_count": 31,
     "metadata": {},
     "output_type": "execute_result"
    }
   ],
   "source": [
    "p.x=10"
   ]
  },
  {
   "cell_type": "code",
   "execution_count": 32,
   "id": "30d04a20",
   "metadata": {},
   "outputs": [
    {
     "data": {
      "text/plain": [
       "10"
      ]
     },
     "execution_count": 32,
     "metadata": {},
     "output_type": "execute_result"
    }
   ],
   "source": [
    "p.x"
   ]
  },
  {
   "cell_type": "code",
   "execution_count": 33,
   "id": "95d8cc29",
   "metadata": {},
   "outputs": [
    {
     "name": "stdout",
     "output_type": "stream",
     "text": [
      "p = MPixel(10, 5, 100)\n"
     ]
    },
    {
     "data": {
      "text/plain": [
       "MPixel(10, 5, 100)"
      ]
     },
     "execution_count": 33,
     "metadata": {},
     "output_type": "execute_result"
    }
   ],
   "source": [
    "@show p"
   ]
  },
  {
   "cell_type": "code",
   "execution_count": 34,
   "id": "cfea45b0",
   "metadata": {},
   "outputs": [
    {
     "data": {
      "text/plain": [
       "20"
      ]
     },
     "execution_count": 34,
     "metadata": {},
     "output_type": "execute_result"
    }
   ],
   "source": [
    "p.y=20"
   ]
  },
  {
   "cell_type": "code",
   "execution_count": 35,
   "id": "394c2450",
   "metadata": {},
   "outputs": [
    {
     "name": "stdout",
     "output_type": "stream",
     "text": [
      "p = MPixel(10, 20, 100)\n"
     ]
    },
    {
     "data": {
      "text/plain": [
       "MPixel(10, 20, 100)"
      ]
     },
     "execution_count": 35,
     "metadata": {},
     "output_type": "execute_result"
    }
   ],
   "source": [
    "@show p"
   ]
  },
  {
   "cell_type": "code",
   "execution_count": 37,
   "id": "babfde39",
   "metadata": {},
   "outputs": [],
   "source": [
    "struct Point{T}\n",
    "           x::T\n",
    "           y::T\n",
    "end\n"
   ]
  },
  {
   "cell_type": "code",
   "execution_count": 38,
   "id": "2777181b",
   "metadata": {},
   "outputs": [
    {
     "data": {
      "text/plain": [
       "Point{Float64}"
      ]
     },
     "execution_count": 38,
     "metadata": {},
     "output_type": "execute_result"
    }
   ],
   "source": [
    "Point{Float64}"
   ]
  },
  {
   "cell_type": "code",
   "execution_count": 39,
   "id": "55f3b489",
   "metadata": {},
   "outputs": [
    {
     "data": {
      "text/plain": [
       "Point{AbstractString}"
      ]
     },
     "execution_count": 39,
     "metadata": {},
     "output_type": "execute_result"
    }
   ],
   "source": [
    "Point{AbstractString}"
   ]
  },
  {
   "cell_type": "code",
   "execution_count": 40,
   "id": "8c0de31e",
   "metadata": {},
   "outputs": [
    {
     "data": {
      "text/plain": [
       "true"
      ]
     },
     "execution_count": 40,
     "metadata": {},
     "output_type": "execute_result"
    }
   ],
   "source": [
    " Point{Float64} <: Point"
   ]
  },
  {
   "cell_type": "code",
   "execution_count": 41,
   "id": "f69eeb20",
   "metadata": {},
   "outputs": [
    {
     "data": {
      "text/plain": [
       "true"
      ]
     },
     "execution_count": 41,
     "metadata": {},
     "output_type": "execute_result"
    }
   ],
   "source": [
    "Point{AbstractString} <: Point"
   ]
  },
  {
   "cell_type": "code",
   "execution_count": 42,
   "id": "b11a0818",
   "metadata": {},
   "outputs": [
    {
     "data": {
      "text/plain": [
       "false"
      ]
     },
     "execution_count": 42,
     "metadata": {},
     "output_type": "execute_result"
    }
   ],
   "source": [
    "Float64 <: Point"
   ]
  },
  {
   "cell_type": "code",
   "execution_count": 43,
   "id": "385afbf8",
   "metadata": {},
   "outputs": [
    {
     "data": {
      "text/plain": [
       "false"
      ]
     },
     "execution_count": 43,
     "metadata": {},
     "output_type": "execute_result"
    }
   ],
   "source": [
    "Point{Float64} <: Point{Int64}"
   ]
  },
  {
   "cell_type": "code",
   "execution_count": 1,
   "id": "d79a7b08",
   "metadata": {},
   "outputs": [
    {
     "data": {
      "text/plain": [
       "OwnStruct"
      ]
     },
     "execution_count": 1,
     "metadata": {},
     "output_type": "execute_result"
    }
   ],
   "source": [
    "struct OwnStruct\n",
    "    a:: Vector{Float64}\n",
    "    b\n",
    "end\n",
    "\n",
    "j = OwnStruct([1,2,3,4], \"blackpink\")\n",
    "\n",
    "typeof(j)\n"
   ]
  },
  {
   "cell_type": "code",
   "execution_count": 2,
   "id": "fd6cca69",
   "metadata": {},
   "outputs": [
    {
     "data": {
      "text/plain": [
       "(:a, :b)"
      ]
     },
     "execution_count": 2,
     "metadata": {},
     "output_type": "execute_result"
    }
   ],
   "source": [
    "fieldnames(typeof(j))"
   ]
  },
  {
   "cell_type": "code",
   "execution_count": 3,
   "id": "8e0645d5",
   "metadata": {},
   "outputs": [
    {
     "data": {
      "text/plain": [
       "4-element Vector{Float64}:\n",
       " 1.0\n",
       " 2.0\n",
       " 3.0\n",
       " 4.0"
      ]
     },
     "execution_count": 3,
     "metadata": {},
     "output_type": "execute_result"
    }
   ],
   "source": [
    "j.a"
   ]
  },
  {
   "cell_type": "code",
   "execution_count": 4,
   "id": "09f87a7d",
   "metadata": {},
   "outputs": [
    {
     "data": {
      "text/plain": [
       "\"blackpink\""
      ]
     },
     "execution_count": 4,
     "metadata": {},
     "output_type": "execute_result"
    }
   ],
   "source": [
    "j.b"
   ]
  },
  {
   "cell_type": "code",
   "execution_count": 8,
   "id": "66bb635b",
   "metadata": {},
   "outputs": [
    {
     "data": {
      "text/plain": [
       "5-element Vector{Float64}:\n",
       "   1.0\n",
       "   2.0\n",
       "   3.0\n",
       "   4.0\n",
       " 143.0"
      ]
     },
     "execution_count": 8,
     "metadata": {},
     "output_type": "execute_result"
    }
   ],
   "source": [
    "append!(j.a, 143)"
   ]
  },
  {
   "cell_type": "code",
   "execution_count": 9,
   "id": "4ff03d5e",
   "metadata": {},
   "outputs": [],
   "source": [
    "#Mutable\n",
    "\n",
    "mutable struct MutStruct\n",
    "    m\n",
    "    n\n",
    "end"
   ]
  },
  {
   "cell_type": "code",
   "execution_count": 10,
   "id": "0d8f869d",
   "metadata": {},
   "outputs": [
    {
     "data": {
      "text/plain": [
       "MutStruct(143, \"I love blackpink\")"
      ]
     },
     "execution_count": 10,
     "metadata": {},
     "output_type": "execute_result"
    }
   ],
   "source": [
    "m = MutStruct(143, \"I love blackpink\")"
   ]
  },
  {
   "cell_type": "code",
   "execution_count": 12,
   "id": "921d66bd",
   "metadata": {},
   "outputs": [
    {
     "data": {
      "text/plain": [
       "143"
      ]
     },
     "execution_count": 12,
     "metadata": {},
     "output_type": "execute_result"
    }
   ],
   "source": [
    "m.m"
   ]
  },
  {
   "cell_type": "code",
   "execution_count": 13,
   "id": "54f33c29",
   "metadata": {},
   "outputs": [
    {
     "data": {
      "text/plain": [
       "\"I love blackpink\""
      ]
     },
     "execution_count": 13,
     "metadata": {},
     "output_type": "execute_result"
    }
   ],
   "source": [
    "m.n"
   ]
  },
  {
   "cell_type": "code",
   "execution_count": 14,
   "id": "aee07032",
   "metadata": {},
   "outputs": [
    {
     "data": {
      "text/plain": [
       "\"serve\""
      ]
     },
     "execution_count": 14,
     "metadata": {},
     "output_type": "execute_result"
    }
   ],
   "source": [
    "m.m = \"serve\""
   ]
  },
  {
   "cell_type": "code",
   "execution_count": 15,
   "id": "ece492b2",
   "metadata": {},
   "outputs": [
    {
     "data": {
      "text/plain": [
       "\"serve\""
      ]
     },
     "execution_count": 15,
     "metadata": {},
     "output_type": "execute_result"
    }
   ],
   "source": [
    "m.m"
   ]
  },
  {
   "cell_type": "code",
   "execution_count": 16,
   "id": "f7af9a57",
   "metadata": {},
   "outputs": [],
   "source": [
    "mutable struct Blackpink\n",
    "    name:: AbstractString\n",
    "    age:: Int\n",
    "    nationality:: AbstractString\n",
    "end\n"
   ]
  },
  {
   "cell_type": "code",
   "execution_count": 17,
   "id": "ac82351a",
   "metadata": {},
   "outputs": [
    {
     "data": {
      "text/plain": [
       "Blackpink(\"Jisoo\", 28, \"Korean\")"
      ]
     },
     "execution_count": 17,
     "metadata": {},
     "output_type": "execute_result"
    }
   ],
   "source": [
    "Blackpink1 = Blackpink(\"Jisoo\", 28, \"Korean\")"
   ]
  },
  {
   "cell_type": "code",
   "execution_count": 18,
   "id": "63238712",
   "metadata": {},
   "outputs": [
    {
     "data": {
      "text/plain": [
       "(:name, :age, :nationality)"
      ]
     },
     "execution_count": 18,
     "metadata": {},
     "output_type": "execute_result"
    }
   ],
   "source": [
    "fieldnames(typeof(Blackpink1))"
   ]
  },
  {
   "cell_type": "code",
   "execution_count": 19,
   "id": "4448d446",
   "metadata": {},
   "outputs": [
    {
     "name": "stdout",
     "output_type": "stream",
     "text": [
      "Blackpink\n",
      "  name: String \"Jisoo\"\n",
      "  age: Int64 28\n",
      "  nationality: String \"Korean\"\n"
     ]
    }
   ],
   "source": [
    "dump(Blackpink1)"
   ]
  },
  {
   "cell_type": "markdown",
   "id": "541e32fa",
   "metadata": {},
   "source": [
    "# KR3: Demonstrated type inference in Julia. Generator expressions may be used for this."
   ]
  },
  {
   "cell_type": "markdown",
   "id": "bde8a352",
   "metadata": {},
   "source": [
    "For the succeeding sections, I used MIT's 18.337J/6.338J: Parallel Computing and Scientific Machine Learning course as a resource. This helped me understand the how Julia's type inference and type stability works. "
   ]
  },
  {
   "cell_type": "code",
   "execution_count": 21,
   "id": "14a50c8f",
   "metadata": {},
   "outputs": [
    {
     "data": {
      "text/plain": [
       "18"
      ]
     },
     "execution_count": 21,
     "metadata": {},
     "output_type": "execute_result"
    }
   ],
   "source": [
    "a = 4\n",
    "b = 6\n",
    "c = 8\n",
    "\n",
    "a+b+c"
   ]
  },
  {
   "cell_type": "markdown",
   "id": "a77bbf7d",
   "metadata": {},
   "source": [
    "Julia runs a type inference algorithm which finds out that A is an Int, B is an Int, and C is an Int. Now, if it can prove that A+B+C is an Int, then it can propagate all of the types through."
   ]
  },
  {
   "cell_type": "code",
   "execution_count": 24,
   "id": "2dd8e9e1",
   "metadata": {},
   "outputs": [
    {
     "data": {
      "text/plain": [
       "10-element Vector{Float64}:\n",
       " 1.0\n",
       " 1.4142135623730951\n",
       " 1.7320508075688772\n",
       " 2.0\n",
       " 2.23606797749979\n",
       " 2.4494897427831783\n",
       " 2.6457513110645907\n",
       " 2.8284271247461903\n",
       " 3.0\n",
       " 3.1622776601683795"
      ]
     },
     "execution_count": 24,
     "metadata": {},
     "output_type": "execute_result"
    }
   ],
   "source": [
    "[x^(1/2) for x in 1:10]"
   ]
  },
  {
   "cell_type": "code",
   "execution_count": 25,
   "id": "14fb26c9",
   "metadata": {},
   "outputs": [
    {
     "data": {
      "text/plain": [
       "10-element Vector{Int64}:\n",
       "     1\n",
       "    16\n",
       "    81\n",
       "   256\n",
       "   625\n",
       "  1296\n",
       "  2401\n",
       "  4096\n",
       "  6561\n",
       " 10000"
      ]
     },
     "execution_count": 25,
     "metadata": {},
     "output_type": "execute_result"
    }
   ],
   "source": [
    "[x^4 for x in 1:10]"
   ]
  },
  {
   "cell_type": "code",
   "execution_count": 27,
   "id": "c054bd50",
   "metadata": {},
   "outputs": [
    {
     "data": {
      "text/plain": [
       "Base.Generator{UnitRange{Int64}, var\"#11#12\"}(var\"#11#12\"(), 1:6)"
      ]
     },
     "execution_count": 27,
     "metadata": {},
     "output_type": "execute_result"
    }
   ],
   "source": [
    "z = (x*x*x for x in 1:6)"
   ]
  },
  {
   "cell_type": "code",
   "execution_count": 28,
   "id": "7cef2c69",
   "metadata": {},
   "outputs": [
    {
     "data": {
      "text/plain": [
       "6-element Vector{Int64}:\n",
       "   1\n",
       "   8\n",
       "  27\n",
       "  64\n",
       " 125\n",
       " 216"
      ]
     },
     "execution_count": 28,
     "metadata": {},
     "output_type": "execute_result"
    }
   ],
   "source": [
    "collect(z)"
   ]
  },
  {
   "cell_type": "markdown",
   "id": "2e6d3f9a",
   "metadata": {},
   "source": [
    "# KR4-5: Created a function with inherent type-instability. Create a version of the function with fixed type-instability issues. Demonstrate how @code_warntype can be useful in detecting type-instabilities."
   ]
  },
  {
   "cell_type": "markdown",
   "id": "5e8d71ca",
   "metadata": {},
   "source": [
    "The type of the output on our function is directly inferred from the type of the input. This property is known as type-stability."
   ]
  },
  {
   "cell_type": "code",
   "execution_count": 36,
   "id": "2a4ed162",
   "metadata": {},
   "outputs": [
    {
     "data": {
      "text/plain": [
       "type_s (generic function with 1 method)"
      ]
     },
     "execution_count": 36,
     "metadata": {},
     "output_type": "execute_result"
    }
   ],
   "source": [
    "function type_s(x,y)\n",
    "  out = x * y\n",
    "  rand() < 0.5 ? out : Float64(out)\n",
    "end"
   ]
  },
  {
   "cell_type": "code",
   "execution_count": 38,
   "id": "893e8076",
   "metadata": {},
   "outputs": [
    {
     "name": "stdout",
     "output_type": "stream",
     "text": [
      "MethodInstance for type_s(::Int64, ::Int64)\n",
      "  from type_s(x, y) in Main at In[36]:1\n",
      "Arguments\n",
      "  #self#\u001b[36m::Core.Const(type_s)\u001b[39m\n",
      "  x\u001b[36m::Int64\u001b[39m\n",
      "  y\u001b[36m::Int64\u001b[39m\n",
      "Locals\n",
      "  out\u001b[36m::Int64\u001b[39m\n",
      "Body\u001b[91m\u001b[1m::Union{Float64, Int64}\u001b[22m\u001b[39m\n",
      "\u001b[90m1 ─\u001b[39m      (out = x * y)\n",
      "\u001b[90m│  \u001b[39m %2 = Main.rand()\u001b[36m::Float64\u001b[39m\n",
      "\u001b[90m│  \u001b[39m %3 = (%2 < 0.5)\u001b[36m::Bool\u001b[39m\n",
      "\u001b[90m└──\u001b[39m      goto #3 if not %3\n",
      "\u001b[90m2 ─\u001b[39m      return out\n",
      "\u001b[90m3 ─\u001b[39m %6 = Main.Float64(out)\u001b[36m::Float64\u001b[39m\n",
      "\u001b[90m└──\u001b[39m      return %6\n",
      "\n"
     ]
    }
   ],
   "source": [
    "@code_warntype type_s(2,5)"
   ]
  },
  {
   "cell_type": "markdown",
   "id": "ec9f776f",
   "metadata": {},
   "source": [
    "2 and 5 are integers, out is an integer, rand() and 0.5 are floating point values. If the rand() is less than 0.5, we output out. Otherwise, we output Float64(out).\n",
    "\n",
    "The type of the output is {Float64, Int64} because we don't actually know what the output is going to be. Whether we get an Integer or a Float64 is dependent on the values of the program. Now, the best that our compiled code can do is say that it can either be an Integer or Float64 (that's why it's red). \n",
    "\n",
    "This red line shows that the compiler inferred that the return type of this function, when passed Int64 as an argument, can either be Float64 or Int64. Therefore, this function is type-unstable."
   ]
  },
  {
   "cell_type": "code",
   "execution_count": 41,
   "id": "143a8bbb",
   "metadata": {},
   "outputs": [
    {
     "data": {
      "text/plain": [
       "type_sfixed (generic function with 1 method)"
      ]
     },
     "execution_count": 41,
     "metadata": {},
     "output_type": "execute_result"
    }
   ],
   "source": [
    "function type_sfixed(x,y)\n",
    "  out = x * y\n",
    "  5 < 6 ? out : Float64(out)\n",
    "end"
   ]
  },
  {
   "cell_type": "code",
   "execution_count": 42,
   "id": "e6548159",
   "metadata": {},
   "outputs": [
    {
     "name": "stdout",
     "output_type": "stream",
     "text": [
      "MethodInstance for type_sfixed(::Int64, ::Int64)\n",
      "  from type_sfixed(x, y) in Main at In[41]:1\n",
      "Arguments\n",
      "  #self#\u001b[36m::Core.Const(type_sfixed)\u001b[39m\n",
      "  x\u001b[36m::Int64\u001b[39m\n",
      "  y\u001b[36m::Int64\u001b[39m\n",
      "Locals\n",
      "  out\u001b[36m::Int64\u001b[39m\n",
      "Body\u001b[36m::Int64\u001b[39m\n",
      "\u001b[90m1 ─\u001b[39m      (out = x * y)\n",
      "\u001b[90m│  \u001b[39m %2 = (5 < 6)\u001b[36m::Core.Const(true)\u001b[39m\n",
      "\u001b[90m│  \u001b[39m      Core.typeassert(%2, Core.Bool)\n",
      "\u001b[90m└──\u001b[39m      return out\n",
      "\u001b[90m2 ─\u001b[39m      Core.Const(:(Main.Float64(out)))\n",
      "\u001b[90m└──\u001b[39m      Core.Const(:(return %5))\n",
      "\n"
     ]
    }
   ],
   "source": [
    "@code_warntype type_sfixed(2,5)"
   ]
  },
  {
   "cell_type": "markdown",
   "id": "6aa3cdd9",
   "metadata": {},
   "source": [
    "We removed the instability issue. "
   ]
  },
  {
   "cell_type": "markdown",
   "id": "582df15a",
   "metadata": {},
   "source": [
    "# KR6: Demonstration of how Arrays containing ambiguous/abstract types often results to slow execution of codes. The BenchmarkTools may be useful in this part.\n",
    " "
   ]
  },
  {
   "cell_type": "markdown",
   "id": "422fbfd8",
   "metadata": {},
   "source": [
    "From Julia High Performance - Second Edition:\n",
    "\n",
    "While the types are important, they are usually optional when writing Julia code. In general, bindings do not need to be typed; they are inferred.\n",
    "\n",
    "However, when defining storage locations for data, it is important to specify a concrete type. So, for things that hold data, such as arrays, dictionaries, or fields in composite types, it is best to explicitly define the type that it will hold."
   ]
  },
  {
   "cell_type": "code",
   "execution_count": 43,
   "id": "2c6a13d6",
   "metadata": {},
   "outputs": [
    {
     "data": {
      "text/plain": [
       "10-element Vector{Int64}:\n",
       "  1\n",
       "  2\n",
       "  3\n",
       "  4\n",
       "  5\n",
       "  6\n",
       "  7\n",
       "  8\n",
       "  9\n",
       " 10"
      ]
     },
     "execution_count": 43,
     "metadata": {},
     "output_type": "execute_result"
    }
   ],
   "source": [
    "a = Int64[1, 2, 3, 4, 5, 6, 7, 8, 9, 10]"
   ]
  },
  {
   "cell_type": "code",
   "execution_count": 45,
   "id": "feb65cf5",
   "metadata": {},
   "outputs": [
    {
     "data": {
      "text/plain": [
       "10-element Vector{Number}:\n",
       "  1\n",
       "  2\n",
       "  3\n",
       "  4\n",
       "  5\n",
       "  6\n",
       "  7\n",
       "  8\n",
       "  9\n",
       " 10"
      ]
     },
     "execution_count": 45,
     "metadata": {},
     "output_type": "execute_result"
    }
   ],
   "source": [
    " b = Number[1,2,3,4,5,6,7,8,9,10]"
   ]
  },
  {
   "cell_type": "code",
   "execution_count": 46,
   "id": "3b865496",
   "metadata": {},
   "outputs": [
    {
     "data": {
      "text/plain": [
       "arr_sumsqr (generic function with 1 method)"
      ]
     },
     "execution_count": 46,
     "metadata": {},
     "output_type": "execute_result"
    }
   ],
   "source": [
    "function arr_sumsqr(x::Array{T}) where T <: Number    \n",
    "    r = zero(T) \n",
    "    for i = 1:length(x) \n",
    "        r = r + x[i] ^ 2 \n",
    "    end \n",
    "    return r \n",
    "end "
   ]
  },
  {
   "cell_type": "code",
   "execution_count": 48,
   "id": "d8c7af3b",
   "metadata": {},
   "outputs": [
    {
     "name": "stderr",
     "output_type": "stream",
     "text": [
      "┌ Info: Precompiling BenchmarkTools [6e4b80f9-dd63-53aa-95a3-0cdb28fa8baf]\n",
      "└ @ Base loading.jl:1662\n"
     ]
    },
    {
     "name": "stdout",
     "output_type": "stream",
     "text": [
      "  7.700 ns (0 allocations: 0 bytes)\n"
     ]
    },
    {
     "data": {
      "text/plain": [
       "385"
      ]
     },
     "execution_count": 48,
     "metadata": {},
     "output_type": "execute_result"
    }
   ],
   "source": [
    "using BenchmarkTools\n",
    "@btime arr_sumsqr($a)\n"
   ]
  },
  {
   "cell_type": "code",
   "execution_count": 49,
   "id": "c0873d81",
   "metadata": {},
   "outputs": [
    {
     "name": "stdout",
     "output_type": "stream",
     "text": [
      "  304.918 ns (0 allocations: 0 bytes)\n"
     ]
    },
    {
     "data": {
      "text/plain": [
       "385"
      ]
     },
     "execution_count": 49,
     "metadata": {},
     "output_type": "execute_result"
    }
   ],
   "source": [
    "@btime arr_sumsqr($b)"
   ]
  },
  {
   "cell_type": "markdown",
   "id": "f12887ff",
   "metadata": {},
   "source": [
    "There is a massive discrepancy! This is because when the array is defined to contain a specific concrete type (Int64 in this case), the exact size of each element is known meaning the Julia runtime can store the values inline within the allocation of the array. But when the array contains an abstract type, the actual value can be of any size which causes extra memory load when reading the values. "
   ]
  }
 ],
 "metadata": {
  "kernelspec": {
   "display_name": "Julia 1.8.0",
   "language": "julia",
   "name": "julia-1.8"
  },
  "language_info": {
   "file_extension": ".jl",
   "mimetype": "application/julia",
   "name": "julia",
   "version": "1.8.0"
  }
 },
 "nbformat": 4,
 "nbformat_minor": 5
}
